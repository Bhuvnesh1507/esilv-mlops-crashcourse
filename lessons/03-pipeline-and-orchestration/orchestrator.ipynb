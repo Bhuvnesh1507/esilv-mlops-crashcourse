{
 "cells": [
  {
   "cell_type": "markdown",
   "metadata": {},
   "source": [
    "# Wine Quality Prediction Pipeline with Prefect"
   ]
  },
  {
   "cell_type": "code",
   "execution_count": null,
   "metadata": {},
   "source": [
    "from prefect import flow, task\n",
    "from preprocessing import DataPreprocessor\n",
    "from modeling import WineQualityModel\n",
    "from deployment import ModelDeployment\n",
    "from helpers import save_pickle, load_pickle, create_directories\n",
    "from config import Config"
   ]
  },
  {
   "cell_type": "markdown",
   "metadata": {},
   "source": [
    "## Define Tasks"
   ]
  },
  {
   "cell_type": "code",
   "execution_count": null,
   "metadata": {},
   "source": [
    "@task(name=\"preprocess_data\", retries=2)\n",
    "def preprocess_data():\n",
    "    config = Config()\n",
    "    preprocessor = DataPreprocessor()\n",
    "    df = preprocessor.load_data()\n",
    "    train_df, test_df = preprocessor.split_data(df)\n",
    "    \n",
    "    X_train = preprocessor.prepare_features(train_df, fit=True)\n",
    "    y_train = train_df[config.TARGET_COLUMN]\n",
    "    \n",
    "    X_test = preprocessor.prepare_features(test_df)\n",
    "    y_test = test_df[config.TARGET_COLUMN]\n",
    "    \n",
    "    save_pickle(config.SCALER_PATH, preprocessor.scaler)\n",
    "    \n",
    "    return X_train, X_test, y_train, y_test\n",
    "\n",
    "@task(name=\"train_model\")\n",
    "def train_model(X_train, y_train):\n",
    "    config = Config()\n",
    "    model = WineQualityModel()\n",
    "    model.train(X_train, y_train)\n",
    "    save_pickle(config.MODEL_PATH, model.model)\n",
    "    return model\n",
    "\n",
    "@task(name=\"evaluate_model\")\n",
    "def evaluate_model(model, X_test, y_test):\n",
    "    metrics = model.evaluate(X_test, y_test)\n",
    "    print(f\"Test RMSE: {metrics['rmse']:.4f}\")\n",
    "    print(f\"Test R2: {metrics['r2']:.4f}\")\n",
    "    return metrics"
   ]
  },
  {
   "cell_type": "markdown",
   "metadata": {},
   "source": [
    "## Define Flows"
   ]
  },
  {
   "cell_type": "code",
   "execution_count": null,
   "metadata": {},
   "source": [
    "@flow(name=\"train_pipeline\", log_prints=True)\n",
    "def train_pipeline():\n",
    "    create_directories(Config())\n",
    "    X_train, X_test, y_train, y_test = preprocess_data()\n",
    "    model = train_model(X_train, y_train)\n",
    "    metrics = evaluate_model(model, X_test, y_test)\n",
    "    return metrics\n",
    "\n",
    "@flow(name=\"deploy_pipeline\", log_prints=True)\n",
    "def deploy_pipeline():\n",
    "    deployment = ModelDeployment()\n",
    "    deployment.register_best_model()\n",
    "    return deployment.load_production_model()"
   ]
  },
  {
   "cell_type": "markdown",
   "metadata": {},
   "source": [
    "## Run Pipelines"
   ]
  },
  {
   "cell_type": "code",
   "execution_count": null,
   "metadata": {},
   "source": [
    "if __name__ == \"__main__\":\n",
    "    train_metrics = train_pipeline()\n",
    "    production_model = deploy_pipeline()"
   ]
  }
 ],
 "metadata": {
  "language_info": {
   "name": "python"
  }
 },
 "nbformat": 4,
 "nbformat_minor": 2
}