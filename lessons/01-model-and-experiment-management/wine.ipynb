{
 "cells": [
  {
   "cell_type": "code",
   "execution_count": 1,
   "metadata": {},
   "outputs": [],
   "source": [
    "import pandas as pd\n",
    "import numpy as np\n",
    "from sklearn.model_selection import train_test_split\n",
    "from sklearn.preprocessing import StandardScaler\n",
    "from sklearn.linear_model import LinearRegression\n",
    "from sklearn.metrics import mean_squared_error, r2_score\n",
    "import mlflow\n",
    "from mlflow.tracking import MlflowClient\n",
    "import pickle\n",
    "from typing import Any, Tuple, Dict"
   ]
  },
  {
   "cell_type": "code",
   "execution_count": 2,
   "metadata": {},
   "outputs": [
    {
     "name": "stdout",
     "output_type": "stream",
     "text": [
      "Dataset shape: (6497, 13)\n",
      "\n",
      "First few rows of the dataset:\n",
      "    type  fixed acidity  volatile acidity  citric acid  residual sugar  \\\n",
      "0  white            7.0              0.27         0.36            20.7   \n",
      "1  white            6.3              0.30         0.34             1.6   \n",
      "2  white            8.1              0.28         0.40             6.9   \n",
      "3  white            7.2              0.23         0.32             8.5   \n",
      "4  white            7.2              0.23         0.32             8.5   \n",
      "\n",
      "   chlorides  free sulfur dioxide  total sulfur dioxide  density    pH  \\\n",
      "0      0.045                 45.0                 170.0   1.0010  3.00   \n",
      "1      0.049                 14.0                 132.0   0.9940  3.30   \n",
      "2      0.050                 30.0                  97.0   0.9951  3.26   \n",
      "3      0.058                 47.0                 186.0   0.9956  3.19   \n",
      "4      0.058                 47.0                 186.0   0.9956  3.19   \n",
      "\n",
      "   sulphates  alcohol  quality  \n",
      "0       0.45      8.8        6  \n",
      "1       0.49      9.5        6  \n",
      "2       0.44     10.1        6  \n",
      "3       0.40      9.9        6  \n",
      "4       0.40      9.9        6  \n",
      "\n",
      "Dataset info:\n",
      "<class 'pandas.core.frame.DataFrame'>\n",
      "RangeIndex: 6497 entries, 0 to 6496\n",
      "Data columns (total 13 columns):\n",
      " #   Column                Non-Null Count  Dtype  \n",
      "---  ------                --------------  -----  \n",
      " 0   type                  6497 non-null   object \n",
      " 1   fixed acidity         6487 non-null   float64\n",
      " 2   volatile acidity      6489 non-null   float64\n",
      " 3   citric acid           6494 non-null   float64\n",
      " 4   residual sugar        6495 non-null   float64\n",
      " 5   chlorides             6495 non-null   float64\n",
      " 6   free sulfur dioxide   6497 non-null   float64\n",
      " 7   total sulfur dioxide  6497 non-null   float64\n",
      " 8   density               6497 non-null   float64\n",
      " 9   pH                    6488 non-null   float64\n",
      " 10  sulphates             6493 non-null   float64\n",
      " 11  alcohol               6497 non-null   float64\n",
      " 12  quality               6497 non-null   int64  \n",
      "dtypes: float64(11), int64(1), object(1)\n",
      "memory usage: 660.0+ KB\n",
      "None\n"
     ]
    }
   ],
   "source": [
    "def load_data(path: str) -> pd.DataFrame:\n",
    "    \"\"\"\n",
    "    Load wine quality dataset from CSV file\n",
    "    \"\"\"\n",
    "    df = pd.read_csv(path)\n",
    "    print(f\"Dataset shape: {df.shape}\")\n",
    "    return df\n",
    "\n",
    "# Load the dataset\n",
    "df = load_data('winequalityN.csv')\n",
    "print(\"\\nFirst few rows of the dataset:\")\n",
    "print(df.head())\n",
    "print(\"\\nDataset info:\")\n",
    "print(df.info())"
   ]
  },
  {
   "cell_type": "code",
   "execution_count": 3,
   "metadata": {},
   "outputs": [
    {
     "name": "stdout",
     "output_type": "stream",
     "text": [
      "Dataset shape after cleaning: (5295, 13)\n"
     ]
    }
   ],
   "source": [
    "def prepare_data(df: pd.DataFrame) -> pd.DataFrame:\n",
    "    \"\"\"\n",
    "    Prepare the wine dataset by handling missing values and removing duplicates\n",
    "    \"\"\"\n",
    "    # Create a copy to avoid modifying the original dataframe\n",
    "    df = df.copy()\n",
    "    \n",
    "    # Drop rows with missing values if any\n",
    "    df = df.dropna()\n",
    "    \n",
    "    # Remove duplicates\n",
    "    df = df.drop_duplicates()\n",
    "    \n",
    "    # Convert 'type' to numeric (0 for 'white', 1 for 'red')\n",
    "    df['type'] = (df['type'] == 'red').astype(int)\n",
    "    \n",
    "    return df\n",
    "\n",
    "# Prepare the data\n",
    "df_cleaned = prepare_data(df)\n",
    "print(\"Dataset shape after cleaning:\", df_cleaned.shape)\n"
   ]
  },
  {
   "cell_type": "code",
   "execution_count": 4,
   "metadata": {},
   "outputs": [
    {
     "name": "stdout",
     "output_type": "stream",
     "text": [
      "Training set shape: (4236, 12)\n",
      "Testing set shape: (1059, 12)\n"
     ]
    }
   ],
   "source": [
    "def prepare_features_and_target(\n",
    "    df: pd.DataFrame,\n",
    "    target_column: str = 'quality'\n",
    ") -> Tuple[pd.DataFrame, pd.Series]:\n",
    "    \"\"\"\n",
    "    Separate features and target, and perform feature engineering\n",
    "    \"\"\"\n",
    "    # Separate features and target\n",
    "    X = df.drop(columns=[target_column])\n",
    "    y = df[target_column]\n",
    "    \n",
    "    return X, y\n",
    "\n",
    "def preprocess_data(\n",
    "    X_train: pd.DataFrame,\n",
    "    X_test: pd.DataFrame\n",
    ") -> Tuple[pd.DataFrame, pd.DataFrame, StandardScaler]:\n",
    "    \"\"\"\n",
    "    Preprocess the data using StandardScaler\n",
    "    \"\"\"\n",
    "    scaler = StandardScaler()\n",
    "    X_train_scaled = scaler.fit_transform(X_train)\n",
    "    X_test_scaled = scaler.transform(X_test)\n",
    "    \n",
    "    return X_train_scaled, X_test_scaled, scaler\n",
    "\n",
    "# Split features and target\n",
    "X, y = prepare_features_and_target(df_cleaned)\n",
    "\n",
    "# Split the data into training and testing sets\n",
    "X_train, X_test, y_train, y_test = train_test_split(\n",
    "    X, y, test_size=0.2, random_state=42\n",
    ")\n",
    "\n",
    "# Preprocess the data\n",
    "X_train_scaled, X_test_scaled, scaler = preprocess_data(X_train, X_test)\n",
    "\n",
    "print(\"Training set shape:\", X_train_scaled.shape)\n",
    "print(\"Testing set shape:\", X_test_scaled.shape)"
   ]
  },
  {
   "cell_type": "code",
   "execution_count": 5,
   "metadata": {},
   "outputs": [
    {
     "name": "stderr",
     "output_type": "stream",
     "text": [
      "2025/01/06 15:56:55 INFO mlflow.tracking.fluent: Experiment with name 'wine-quality-prediction' does not exist. Creating a new experiment.\n"
     ]
    },
    {
     "name": "stdout",
     "output_type": "stream",
     "text": [
      "Run ID: b5581012364f4c0bb554d1662be1f771\n",
      "\n",
      "Metrics:\n",
      "train_rmse: 0.7153\n",
      "test_rmse: 0.7863\n",
      "train_r2: 0.3165\n",
      "test_r2: 0.2941\n"
     ]
    }
   ],
   "source": [
    "def train_and_log_model(\n",
    "    X_train: np.ndarray,\n",
    "    X_test: np.ndarray,\n",
    "    y_train: np.ndarray,\n",
    "    y_test: np.ndarray,\n",
    "    model_params: Dict[str, Any] = None\n",
    ") -> Tuple[LinearRegression, Dict[str, float]]:\n",
    "    \"\"\"\n",
    "    Train the model and log metrics using MLflow\n",
    "    \"\"\"\n",
    "    # Set the experiment name\n",
    "    mlflow.set_experiment(\"wine-quality-prediction\")\n",
    "    \n",
    "    # Start MLflow run\n",
    "    with mlflow.start_run() as run:\n",
    "        # Log the parameters\n",
    "        if model_params is None:\n",
    "            model_params = {}\n",
    "        mlflow.log_params(model_params)\n",
    "        \n",
    "        # Train the model\n",
    "        model = LinearRegression(**model_params)\n",
    "        model.fit(X_train, y_train)\n",
    "        \n",
    "        # Make predictions\n",
    "        y_pred_train = model.predict(X_train)\n",
    "        y_pred_test = model.predict(X_test)\n",
    "        \n",
    "        # Calculate metrics\n",
    "        metrics = {\n",
    "            'train_rmse': np.sqrt(mean_squared_error(y_train, y_pred_train)),\n",
    "            'test_rmse': np.sqrt(mean_squared_error(y_test, y_pred_test)),\n",
    "            'train_r2': r2_score(y_train, y_pred_train),\n",
    "            'test_r2': r2_score(y_test, y_pred_test)\n",
    "        }\n",
    "        \n",
    "        # Log metrics\n",
    "        mlflow.log_metrics(metrics)\n",
    "        \n",
    "        # Log model\n",
    "        mlflow.sklearn.log_model(model, \"model\")\n",
    "        \n",
    "        # Log feature names\n",
    "        mlflow.log_param(\"features\", list(X_train.columns) if hasattr(X_train, 'columns') else None)\n",
    "        \n",
    "        print(f\"Run ID: {run.info.run_id}\")\n",
    "        print(\"\\nMetrics:\")\n",
    "        for metric_name, metric_value in metrics.items():\n",
    "            print(f\"{metric_name}: {metric_value:.4f}\")\n",
    "        \n",
    "        return model, metrics\n",
    "\n",
    "# Train the model with MLflow tracking\n",
    "model_params = {\n",
    "    'fit_intercept': True,\n",
    "    'n_jobs': -1\n",
    "}\n",
    "\n",
    "model, metrics = train_and_log_model(\n",
    "    X_train_scaled,\n",
    "    X_test_scaled,\n",
    "    y_train,\n",
    "    y_test,\n",
    "    model_params\n",
    ")"
   ]
  },
  {
   "cell_type": "code",
   "execution_count": 6,
   "metadata": {},
   "outputs": [
    {
     "name": "stderr",
     "output_type": "stream",
     "text": [
      "Successfully registered model 'wine_quality_predictor'.\n",
      "2025/01/06 15:57:15 INFO mlflow.tracking._model_registry.client: Waiting up to 300 seconds for model version to finish creation. Model name: wine_quality_predictor, version 1\n"
     ]
    },
    {
     "name": "stdout",
     "output_type": "stream",
     "text": [
      "Model wine_quality_predictor version 1 is now in production\n"
     ]
    },
    {
     "name": "stderr",
     "output_type": "stream",
     "text": [
      "Created version '1' of model 'wine_quality_predictor'.\n"
     ]
    }
   ],
   "source": [
    "def register_production_model(model_name: str = \"wine_quality_predictor\"):\n",
    "    \"\"\"\n",
    "    Register the best model as a production model\n",
    "    \"\"\"\n",
    "    client = MlflowClient()\n",
    "    \n",
    "    # Get the latest run\n",
    "    runs = mlflow.search_runs(experiment_names=[\"wine-quality-prediction\"])\n",
    "    if len(runs) == 0:\n",
    "        print(\"No runs found\")\n",
    "        return\n",
    "    \n",
    "    best_run = runs.iloc[0]\n",
    "    run_id = best_run.run_id\n",
    "    \n",
    "    # Register the model\n",
    "    model_uri = f\"runs:/{run_id}/model\"\n",
    "    registered_model = mlflow.register_model(model_uri, model_name)\n",
    "    \n",
    "    # Transition the model to production stage\n",
    "    client.transition_model_version_stage(\n",
    "        name=model_name,\n",
    "        version=registered_model.version,\n",
    "        stage=\"Production\"\n",
    "    )\n",
    "    \n",
    "    print(f\"Model {model_name} version {registered_model.version} is now in production\")\n",
    "\n",
    "# Register the model\n",
    "register_production_model()\n"
   ]
  },
  {
   "cell_type": "code",
   "execution_count": 7,
   "metadata": {},
   "outputs": [
    {
     "name": "stdout",
     "output_type": "stream",
     "text": [
      "\n",
      "Sample predictions (first 5):\n",
      "[5.38939485 6.56960792 6.28820982 6.01342594 5.46243156]\n"
     ]
    }
   ],
   "source": [
    "def load_production_model(model_name: str = \"wine_quality_predictor\"):\n",
    "    \"\"\"\n",
    "    Load the production model from MLflow registry\n",
    "    \"\"\"\n",
    "    return mlflow.sklearn.load_model(f\"models:/{model_name}/Production\")\n",
    "\n",
    "def predict_wine_quality(model, X: np.ndarray) -> np.ndarray:\n",
    "    \"\"\"\n",
    "    Make predictions using the loaded model\n",
    "    \"\"\"\n",
    "    return model.predict(X)\n",
    "\n",
    "# Load the production model\n",
    "production_model = load_production_model()\n",
    "\n",
    "# Make predictions on test set\n",
    "predictions = predict_wine_quality(production_model, X_test_scaled)\n",
    "print(\"\\nSample predictions (first 5):\")\n",
    "print(predictions[:5])\n"
   ]
  },
  {
   "cell_type": "code",
   "execution_count": 8,
   "metadata": {},
   "outputs": [
    {
     "name": "stdout",
     "output_type": "stream",
     "text": [
      "Model artifacts saved successfully\n"
     ]
    }
   ],
   "source": [
    "def save_model_artifacts(model, scaler, path_prefix: str = \"\"):\n",
    "    \"\"\"\n",
    "    Save model and scaler to disk\n",
    "    \"\"\"\n",
    "    # Save model\n",
    "    with open(f\"{path_prefix}wine_model.pkl\", \"wb\") as f:\n",
    "        pickle.dump(model, f)\n",
    "    \n",
    "    # Save scaler\n",
    "    with open(f\"{path_prefix}wine_scaler.pkl\", \"wb\") as f:\n",
    "        pickle.dump(scaler, f)\n",
    "    \n",
    "    print(\"Model artifacts saved successfully\")\n",
    "\n",
    "# Save the artifacts\n",
    "save_model_artifacts(model, scaler)\n"
   ]
  },
  {
   "cell_type": "code",
   "execution_count": 9,
   "metadata": {},
   "outputs": [
    {
     "name": "stdout",
     "output_type": "stream",
     "text": [
      "Feature Importance:\n",
      "                      Coefficient\n",
      "alcohol                    0.3010\n",
      "density                   -0.2389\n",
      "volatile acidity          -0.2299\n",
      "residual sugar             0.2133\n",
      "type                       0.1264\n",
      "sulphates                  0.1098\n",
      "free sulfur dioxide        0.0953\n",
      "total sulfur dioxide      -0.0820\n",
      "fixed acidity              0.0765\n",
      "pH                         0.0762\n",
      "chlorides                 -0.0339\n",
      "citric acid                0.0062\n"
     ]
    }
   ],
   "source": [
    "def interpret_model(model, feature_names):\n",
    "    \"\"\"\n",
    "    Print feature coefficients for model interpretation\n",
    "    \"\"\"\n",
    "    coefficients = pd.DataFrame(\n",
    "        model.coef_,\n",
    "        index=feature_names,\n",
    "        columns=['Coefficient']\n",
    "    )\n",
    "    \n",
    "    # Sort coefficients by absolute value\n",
    "    coefficients['Abs_Coefficient'] = abs(coefficients['Coefficient'])\n",
    "    coefficients = coefficients.sort_values('Abs_Coefficient', ascending=False)\n",
    "    \n",
    "    print(\"Feature Importance:\")\n",
    "    print(coefficients[['Coefficient']].round(4))\n",
    "\n",
    "# Interpret the model\n",
    "feature_names = X_train.columns if hasattr(X_train, 'columns') else [f\"feature_{i}\" for i in range(X_train.shape[1])]\n",
    "interpret_model(model, feature_names)"
   ]
  },
  {
   "cell_type": "code",
   "execution_count": null,
   "metadata": {},
   "outputs": [],
   "source": []
  }
 ],
 "metadata": {
  "kernelspec": {
   "display_name": "mlops-course",
   "language": "python",
   "name": "python3"
  },
  "language_info": {
   "codemirror_mode": {
    "name": "ipython",
    "version": 3
   },
   "file_extension": ".py",
   "mimetype": "text/x-python",
   "name": "python",
   "nbconvert_exporter": "python",
   "pygments_lexer": "ipython3",
   "version": "3.10.15"
  }
 },
 "nbformat": 4,
 "nbformat_minor": 2
}
